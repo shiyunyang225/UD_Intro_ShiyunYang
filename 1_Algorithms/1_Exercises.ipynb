{
 "cells": [
  {
   "cell_type": "markdown",
   "id": "38e188a5",
   "metadata": {},
   "source": [
    "# Exercise 00\n",
    "Write a piece of code that allocates a list of 20 integers and initializes each element by its index multiplied by 5. Print the result."
   ]
  },
  {
   "cell_type": "code",
   "execution_count": 1,
   "id": "01aa4f35",
   "metadata": {},
   "outputs": [
    {
     "name": "stdout",
     "output_type": "stream",
     "text": [
      "[49, 61, 29, 3, 11, 31, 38, 81, 13, 39, 2, 96, 27, 74, 89, 33, 14, 71, 15, 24]\n",
      "[245, 305, 145, 15, 55, 155, 190, 405, 65, 195, 10, 480, 135, 370, 445, 165, 70, 355, 75, 120]\n"
     ]
    }
   ],
   "source": [
    "import random\n",
    "list=random.sample(range(100),20)\n",
    "print(list)\n",
    "\n",
    "def mulfive(x):\n",
    "    newlist=[]\n",
    "    for i in x:\n",
    "        newlist.append(i*5)\n",
    "    return newlist\n",
    "\n",
    "print(mulfive(list))"
   ]
  },
  {
   "cell_type": "markdown",
   "id": "529d91ae",
   "metadata": {},
   "source": [
    "# Exercise 01\n",
    "Define a function that takes an integer as input, prints  all integers that it is divisable by, and returns the largest one."
   ]
  },
  {
   "cell_type": "code",
   "execution_count": 2,
   "id": "30e79132",
   "metadata": {},
   "outputs": [
    {
     "name": "stdout",
     "output_type": "stream",
     "text": [
      "please enter an interger:90\n",
      "[1, 2, 3, 5, 6, 9, 10, 15, 18, 30, 45]\n",
      "45\n"
     ]
    }
   ],
   "source": [
    "x=int(input('please enter an interger:'))\n",
    "def divisable(x):\n",
    "    list=[]\n",
    "    for i in range(1,x):\n",
    "        if x%i==0:\n",
    "            list.append(i)\n",
    "    print(list)\n",
    "    return max(list)\n",
    "print(divisable(x))\n"
   ]
  },
  {
   "cell_type": "markdown",
   "id": "cfbe30d4",
   "metadata": {},
   "source": [
    "# Exercise 02\n",
    "- create a dictionary with 6 keys and values of your choice\n",
    "- write a function that takes a dictionary and a value as input and returns whether the value occurs as a key in the dictionary\n",
    "- write a function that takes a dictionary as input, and returns the dictionary but the keys are swapped with their values (resolve the issue if a value occurs twice!)"
   ]
  },
  {
   "cell_type": "code",
   "execution_count": 3,
   "id": "2123f1c6",
   "metadata": {},
   "outputs": [],
   "source": [
    "MyDict={\n",
    "    'First name':'Shiyun',\n",
    "    'Last name':'Yang',\n",
    "    'age':'23',\n",
    "    'date of birth':'25.2.2000',\n",
    "    'gender':'female',\n",
    "    'email':'shiyun.yang.23@ucl.ac.uk'}"
   ]
  },
  {
   "cell_type": "code",
   "execution_count": 6,
   "id": "ae882f60",
   "metadata": {},
   "outputs": [
    {
     "name": "stdout",
     "output_type": "stream",
     "text": [
      "Please enter the key(enter E to stop): A\n",
      "Please enter the value: B\n",
      "Please enter the key(enter E to stop): B\n",
      "Please enter the value: C\n",
      "Please enter the key(enter E to stop): E\n",
      "{'A': 'B', 'B': 'C'}\n",
      "Please enter the value:B\n",
      "YES\n"
     ]
    }
   ],
   "source": [
    "Dict={}\n",
    "while True:\n",
    "    key=input('Please enter the key(enter E to stop): ')\n",
    "    if key == 'E':\n",
    "        break\n",
    "    else:\n",
    "        value=input('Please enter the value: ')\n",
    "        Dict[key]=value\n",
    "print(Dict)\n",
    "\n",
    "\n",
    "def valuekey(D):\n",
    "    value_input=input('Please enter the value:')\n",
    "    for i in D:\n",
    "        if i==value_input:\n",
    "            a='YES'\n",
    "        else:\n",
    "            a='NO'\n",
    "    return a\n",
    "\n",
    "print(valuekey(Dict))"
   ]
  },
  {
   "cell_type": "code",
   "execution_count": 8,
   "id": "6537e613",
   "metadata": {},
   "outputs": [
    {
     "name": "stdout",
     "output_type": "stream",
     "text": [
      "Please enter the key:(enter E to stop): first name\n",
      "Please enter the value: shiyun\n",
      "Please enter the key:(enter E to stop): last name\n",
      "Please enter the value: yang\n",
      "Please enter the key:(enter E to stop): E\n",
      "{'first name': 'shiyun', 'last name': 'yang'}\n",
      "{'shiyun': 'first name', 'yang': 'last name'}\n"
     ]
    }
   ],
   "source": [
    "Dict={}\n",
    "while True:\n",
    "    key=input('Please enter the key:(enter E to stop): ')\n",
    "    if key == 'E':\n",
    "        break\n",
    "    else:\n",
    "        value=input('Please enter the value: ')\n",
    "        Dict[key]=value\n",
    "print(Dict)\n",
    "\n",
    "def DictReverse(D):\n",
    "    DR={}\n",
    "    for x in D:\n",
    "        DR[D[x]]=x\n",
    "    return DR\n",
    "\n",
    "print(DictReverse(Dict))"
   ]
  },
  {
   "cell_type": "markdown",
   "id": "b4b4e426",
   "metadata": {},
   "source": [
    "# Exercise 03\n",
    "Define a function that creates a dictionary of the first n fibonacci numbers as values paired with their indices as keys. "
   ]
  },
  {
   "cell_type": "code",
   "execution_count": 9,
   "id": "7845b5a4",
   "metadata": {
    "scrolled": true
   },
   "outputs": [
    {
     "name": "stdout",
     "output_type": "stream",
     "text": [
      "n= 15\n",
      "{1: 1, 2: 1, 3: 2, 4: 3, 5: 5, 6: 8, 7: 13, 8: 21, 9: 34, 10: 55, 11: 89, 12: 144, 13: 233, 14: 377, 15: 610}\n",
      "1 1\n",
      "2 1\n",
      "3 2\n",
      "4 3\n",
      "5 5\n",
      "6 8\n",
      "7 13\n",
      "8 21\n",
      "9 34\n",
      "10 55\n",
      "11 89\n",
      "12 144\n",
      "13 233\n",
      "14 377\n",
      "15 610\n"
     ]
    }
   ],
   "source": [
    "def FibonacciDict(n):\n",
    "    a = 0\n",
    "    b = 1\n",
    "    Dict={}\n",
    "    for i in range(n):\n",
    "        t = a\n",
    "        a = b\n",
    "        b = t+b\n",
    "        Dict[i+1]=a\n",
    "    return Dict\n",
    "\n",
    "n=int(input('n= '))\n",
    "print(FibonacciDict(n))\n",
    "\n",
    "for x in FibonacciDict(n):\n",
    "    print(x,FibonacciDict(n)[x])"
   ]
  },
  {
   "cell_type": "code",
   "execution_count": 1,
   "id": "87106e0f",
   "metadata": {},
   "outputs": [
    {
     "name": "stdout",
     "output_type": "stream",
     "text": [
      "Collecting pygame\n",
      "  Obtaining dependency information for pygame from https://files.pythonhosted.org/packages/4d/84/5a03c47c76020c4f46354cf8c3f2d7926592c1ff9370f0ad91a3bb577b54/pygame-2.5.2-cp311-cp311-macosx_11_0_arm64.whl.metadata\n",
      "  Downloading pygame-2.5.2-cp311-cp311-macosx_11_0_arm64.whl.metadata (13 kB)\n",
      "Downloading pygame-2.5.2-cp311-cp311-macosx_11_0_arm64.whl (12.2 MB)\n",
      "\u001b[2K   \u001b[90m━━━━━━━━━━━━━━━━━━━━━━━━━━━━━━━━━━━━━━━━\u001b[0m \u001b[32m12.2/12.2 MB\u001b[0m \u001b[31m9.0 MB/s\u001b[0m eta \u001b[36m0:00:00\u001b[0m00:01\u001b[0m00:01\u001b[0m\n",
      "\u001b[?25hInstalling collected packages: pygame\n",
      "Successfully installed pygame-2.5.2\n"
     ]
    }
   ],
   "source": [
    "!pip install pygame"
   ]
  },
  {
   "cell_type": "code",
   "execution_count": 39,
   "id": "8637f60f",
   "metadata": {
    "scrolled": false
   },
   "outputs": [
    {
     "name": "stdout",
     "output_type": "stream",
     "text": [
      "pygame 2.5.2 (SDL 2.28.3, Python 3.11.5)\n",
      "Hello from the pygame community. https://www.pygame.org/contribute.html\n",
      "<VideoInfo(hw = 0, wm = 1,video_mem = 0\n",
      "         blit_hw = 0, blit_hw_CC = 0, blit_hw_A = 0,\n",
      "         blit_sw = 0, blit_sw_CC = 0, blit_sw_A = 0,\n",
      "         bitsize  = 32, bytesize = 4,\n",
      "         masks =  (0x00ff0000, 0x0000ff00, 0x000000ff, 0xff000000),\n",
      "         shifts = (16, 8, 0, 24),\n",
      "         losses =  (0, 0, 0, 0),\n",
      "         current_w = 1512, current_h = 982\n",
      "         pixel_format = SDL_PIXELFORMAT_ARGB8888)\n",
      ">\n",
      "Traceback (most recent call last):\n",
      "  File \"/Users/yangshiyun/Desktop/UD_IntroProject_2023-main/1_Algorithms/Wall_E/wall_eGame.py\", line 114, in <module>\n",
      "    sys.exit()\n",
      "    ^^^\n",
      "NameError: name 'sys' is not defined\n"
     ]
    }
   ],
   "source": [
    "!python /Users/yangshiyun/Desktop/UD_IntroProject_2023-main/1_Algorithms/Wall_E/wall_eGame.py"
   ]
  },
  {
   "cell_type": "code",
   "execution_count": null,
   "id": "59c534e2",
   "metadata": {},
   "outputs": [],
   "source": []
  }
 ],
 "metadata": {
  "kernelspec": {
   "display_name": "Python 3 (ipykernel)",
   "language": "python",
   "name": "python3"
  },
  "language_info": {
   "codemirror_mode": {
    "name": "ipython",
    "version": 3
   },
   "file_extension": ".py",
   "mimetype": "text/x-python",
   "name": "python",
   "nbconvert_exporter": "python",
   "pygments_lexer": "ipython3",
   "version": "3.8.18"
  }
 },
 "nbformat": 4,
 "nbformat_minor": 5
}
